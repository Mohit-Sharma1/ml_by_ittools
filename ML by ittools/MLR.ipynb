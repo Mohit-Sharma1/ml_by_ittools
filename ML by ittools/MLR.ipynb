{
 "cells": [
  {
   "cell_type": "code",
   "execution_count": 4,
   "metadata": {},
   "outputs": [
    {
     "data": {
      "text/html": [
       "<div>\n",
       "<style scoped>\n",
       "    .dataframe tbody tr th:only-of-type {\n",
       "        vertical-align: middle;\n",
       "    }\n",
       "\n",
       "    .dataframe tbody tr th {\n",
       "        vertical-align: top;\n",
       "    }\n",
       "\n",
       "    .dataframe thead th {\n",
       "        text-align: right;\n",
       "    }\n",
       "</style>\n",
       "<table border=\"1\" class=\"dataframe\">\n",
       "  <thead>\n",
       "    <tr style=\"text-align: right;\">\n",
       "      <th></th>\n",
       "      <th>Direct</th>\n",
       "      <th>Online</th>\n",
       "      <th>Tele</th>\n",
       "      <th>Region</th>\n",
       "      <th>Sales</th>\n",
       "    </tr>\n",
       "  </thead>\n",
       "  <tbody>\n",
       "    <tr>\n",
       "      <th>0</th>\n",
       "      <td>13</td>\n",
       "      <td>2</td>\n",
       "      <td>14</td>\n",
       "      <td>East</td>\n",
       "      <td>68.337260</td>\n",
       "    </tr>\n",
       "    <tr>\n",
       "      <th>1</th>\n",
       "      <td>20</td>\n",
       "      <td>18</td>\n",
       "      <td>4</td>\n",
       "      <td>West</td>\n",
       "      <td>18.393210</td>\n",
       "    </tr>\n",
       "    <tr>\n",
       "      <th>2</th>\n",
       "      <td>3</td>\n",
       "      <td>19</td>\n",
       "      <td>16</td>\n",
       "      <td>East</td>\n",
       "      <td>60.817410</td>\n",
       "    </tr>\n",
       "    <tr>\n",
       "      <th>3</th>\n",
       "      <td>11</td>\n",
       "      <td>18</td>\n",
       "      <td>9</td>\n",
       "      <td>West</td>\n",
       "      <td>38.382220</td>\n",
       "    </tr>\n",
       "    <tr>\n",
       "      <th>4</th>\n",
       "      <td>15</td>\n",
       "      <td>5</td>\n",
       "      <td>16</td>\n",
       "      <td>East</td>\n",
       "      <td>42.685145</td>\n",
       "    </tr>\n",
       "  </tbody>\n",
       "</table>\n",
       "</div>"
      ],
      "text/plain": [
       "   Direct  Online  Tele Region      Sales\n",
       "0      13       2    14   East  68.337260\n",
       "1      20      18     4   West  18.393210\n",
       "2       3      19    16   East  60.817410\n",
       "3      11      18     9   West  38.382220\n",
       "4      15       5    16   East  42.685145"
      ]
     },
     "execution_count": 4,
     "metadata": {},
     "output_type": "execute_result"
    }
   ],
   "source": [
    "import pandas as pd\n",
    "df= pd.read_excel('MLR.xlsx')\n",
    "df.head()"
   ]
  },
  {
   "cell_type": "code",
   "execution_count": 5,
   "metadata": {},
   "outputs": [],
   "source": [
    "#independent variable\n",
    "\n",
    "x=df.iloc[:,:-1].values\n",
    "\n",
    "#dependent variable\n",
    "\n",
    "y=df.iloc[:,4].values\n"
   ]
  },
  {
   "cell_type": "code",
   "execution_count": 6,
   "metadata": {},
   "outputs": [
    {
     "name": "stdout",
     "output_type": "stream",
     "text": [
      "[[13 2 14 'East']\n",
      " [20 18 4 'West']\n",
      " [3 19 16 'East']\n",
      " [11 18 9 'West']\n",
      " [15 5 16 'East']\n",
      " [7 12 11 'West']\n",
      " [9 14 9 'East']\n",
      " [8 18 12 'West']\n",
      " [10 8 7 'East']\n",
      " [14 4 3 'West']\n",
      " [5 8 7 'East']\n",
      " [13 5 7 'West']\n",
      " [10 15 16 'East']\n",
      " [13 20 2 'West']\n",
      " [15 2 13 'East']]\n"
     ]
    }
   ],
   "source": [
    "print(x)"
   ]
  },
  {
   "cell_type": "code",
   "execution_count": 12,
   "metadata": {},
   "outputs": [
    {
     "name": "stdout",
     "output_type": "stream",
     "text": [
      "[0. 7. 8. 7. 2. 4. 5. 7. 3. 1. 3. 2. 6. 9. 0.]\n",
      "[[ 1.  0.  0.  0.  0.  0.  0.  0.  0.  0.  1.  0. 13. 14.]\n",
      " [ 0.  0.  0.  0.  0.  0.  0.  1.  0.  0.  0.  1. 20.  4.]\n",
      " [ 0.  0.  0.  0.  0.  0.  0.  0.  1.  0.  1.  0.  3. 16.]\n",
      " [ 0.  0.  0.  0.  0.  0.  0.  1.  0.  0.  0.  1. 11.  9.]\n",
      " [ 0.  0.  1.  0.  0.  0.  0.  0.  0.  0.  1.  0. 15. 16.]\n",
      " [ 0.  0.  0.  0.  1.  0.  0.  0.  0.  0.  0.  1.  7. 11.]\n",
      " [ 0.  0.  0.  0.  0.  1.  0.  0.  0.  0.  1.  0.  9.  9.]\n",
      " [ 0.  0.  0.  0.  0.  0.  0.  1.  0.  0.  0.  1.  8. 12.]\n",
      " [ 0.  0.  0.  1.  0.  0.  0.  0.  0.  0.  1.  0. 10.  7.]\n",
      " [ 0.  1.  0.  0.  0.  0.  0.  0.  0.  0.  0.  1. 14.  3.]\n",
      " [ 0.  0.  0.  1.  0.  0.  0.  0.  0.  0.  1.  0.  5.  7.]\n",
      " [ 0.  0.  1.  0.  0.  0.  0.  0.  0.  0.  0.  1. 13.  7.]\n",
      " [ 0.  0.  0.  0.  0.  0.  1.  0.  0.  0.  1.  0. 10. 16.]\n",
      " [ 0.  0.  0.  0.  0.  0.  0.  0.  0.  1.  0.  1. 13.  2.]\n",
      " [ 1.  0.  0.  0.  0.  0.  0.  0.  0.  0.  1.  0. 15. 13.]]\n"
     ]
    }
   ],
   "source": [
    "#Encode Categorical Values\n",
    "\n",
    "from sklearn.preprocessing import LabelEncoder, OneHotEncoder\n",
    "labelencoder= LabelEncoder()\n",
    "x[:,3]=labelencoder.fit_transform(x[:,3])\n",
    "print(x[:,3])\n",
    "onehotencoder= OneHotEncoder(categorical_features=[3])\n",
    "x=onehotencoder.fit_transform(x).toarray()\n",
    "\n",
    "print(x)\n",
    "#Dummy Variable Trap\n",
    "x=x[:,1:]"
   ]
  },
  {
   "cell_type": "code",
   "execution_count": 13,
   "metadata": {},
   "outputs": [],
   "source": [
    "#split data into training and test\n",
    "\n",
    "from sklearn.model_selection import train_test_split\n",
    "x_train,x_test,y_train,y_test=train_test_split(x,y,test_size=0.20,random_state=0)\n"
   ]
  },
  {
   "cell_type": "code",
   "execution_count": 14,
   "metadata": {},
   "outputs": [
    {
     "name": "stdout",
     "output_type": "stream",
     "text": [
      "[18.39321 30.00006 87.80662]\n",
      "[[ 0.  0.  0.  0.  0.  0.  1.  0.  0.  0.  1. 20.  4.]\n",
      " [ 0.  0.  0.  0.  1.  0.  0.  0.  0.  1.  0.  9.  9.]\n",
      " [ 0.  0.  1.  0.  0.  0.  0.  0.  0.  1.  0. 10.  7.]]\n"
     ]
    }
   ],
   "source": [
    "#fitting regression model\n",
    "from sklearn.linear_model import LinearRegression\n",
    "reg= LinearRegression()\n",
    "reg.fit(x_train,y_train)\n",
    "\n",
    "#predicting values\n",
    "y_pred=reg.predict(x_test)\n",
    "\n",
    "print(y_test)\n",
    "print(x_test)"
   ]
  },
  {
   "cell_type": "code",
   "execution_count": 15,
   "metadata": {},
   "outputs": [
    {
     "name": "stdout",
     "output_type": "stream",
     "text": [
      "['Direct' 'Online' 'Tele' 'Region' 'Sales']\n"
     ]
    }
   ],
   "source": [
    "print(df.columns.values)"
   ]
  },
  {
   "cell_type": "code",
   "execution_count": 16,
   "metadata": {},
   "outputs": [
    {
     "name": "stdout",
     "output_type": "stream",
     "text": [
      "0.39388133406105696 0.15143386768547984\n"
     ]
    }
   ],
   "source": [
    "#compare this using statsmodel using formulas\n",
    "\n",
    "import statsmodels.formula.api as sm\n",
    "model=sm.ols(formula='Sales ~ Direct+Online+Tele+Region',data=df)\n",
    "fitted=model.fit()\n",
    "print(fitted.rsquared,fitted.rsquared_adj)"
   ]
  },
  {
   "cell_type": "code",
   "execution_count": null,
   "metadata": {},
   "outputs": [],
   "source": []
  }
 ],
 "metadata": {
  "kernelspec": {
   "display_name": "Python 3",
   "language": "python",
   "name": "python3"
  },
  "language_info": {
   "codemirror_mode": {
    "name": "ipython",
    "version": 3
   },
   "file_extension": ".py",
   "mimetype": "text/x-python",
   "name": "python",
   "nbconvert_exporter": "python",
   "pygments_lexer": "ipython3",
   "version": "3.7.0"
  }
 },
 "nbformat": 4,
 "nbformat_minor": 2
}
