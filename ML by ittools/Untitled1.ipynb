{
 "cells": [
  {
   "cell_type": "code",
   "execution_count": 3,
   "metadata": {},
   "outputs": [
    {
     "ename": "SyntaxError",
     "evalue": "invalid syntax (<ipython-input-3-0de61facf285>, line 20)",
     "output_type": "error",
     "traceback": [
      "\u001b[1;36m  File \u001b[1;32m\"<ipython-input-3-0de61facf285>\"\u001b[1;36m, line \u001b[1;32m20\u001b[0m\n\u001b[1;33m    ln=len(1st)\u001b[0m\n\u001b[1;37m             ^\u001b[0m\n\u001b[1;31mSyntaxError\u001b[0m\u001b[1;31m:\u001b[0m invalid syntax\n"
     ]
    }
   ],
   "source": [
    "def addloc(cmp):\n",
    "    dd=cmp[0:2]\n",
    "    ln=len(planned)\n",
    "    if ln==0:\n",
    "        planned.append(cmp)\n",
    "    else:\n",
    "        last=planned[ln-1]\n",
    "        if int(dd)>=int(last[0:2]):\n",
    "            planned.append(cmp)\n",
    "        else:\n",
    "            for i in range(ln):\n",
    "                cp=planned[i]\n",
    "                if int(dd)<=int(cp[0:2]):\n",
    "                    planned.insert(i,cmp)\n",
    "                    break\n",
    "def conductCamp(cmp):\n",
    "    conducted.append(cmp)\n",
    "    planned.remove(cmp)\n",
    "def search(cmp,lst):                                       #linear search technique\n",
    "    ln=len(1st)\n",
    "    for i in range(ln):\n",
    "        if cmp in 1st[i]:\n",
    "            return 1st[i]\n",
    "    else:\n",
    "        return false\n",
    "def report():\n",
    "    lenp=\n",
    "\n",
    "                    "
   ]
  },
  {
   "cell_type": "code",
   "execution_count": null,
   "metadata": {},
   "outputs": [],
   "source": []
  }
 ],
 "metadata": {
  "kernelspec": {
   "display_name": "Python 3",
   "language": "python",
   "name": "python3"
  },
  "language_info": {
   "codemirror_mode": {
    "name": "ipython",
    "version": 3
   },
   "file_extension": ".py",
   "mimetype": "text/x-python",
   "name": "python",
   "nbconvert_exporter": "python",
   "pygments_lexer": "ipython3",
   "version": "3.7.0"
  }
 },
 "nbformat": 4,
 "nbformat_minor": 2
}
