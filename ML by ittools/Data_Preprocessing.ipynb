{
 "cells": [
  {
   "cell_type": "code",
   "execution_count": 12,
   "metadata": {},
   "outputs": [
    {
     "data": {
      "text/html": [
       "<div>\n",
       "<style scoped>\n",
       "    .dataframe tbody tr th:only-of-type {\n",
       "        vertical-align: middle;\n",
       "    }\n",
       "\n",
       "    .dataframe tbody tr th {\n",
       "        vertical-align: top;\n",
       "    }\n",
       "\n",
       "    .dataframe thead th {\n",
       "        text-align: right;\n",
       "    }\n",
       "</style>\n",
       "<table border=\"1\" class=\"dataframe\">\n",
       "  <thead>\n",
       "    <tr style=\"text-align: right;\">\n",
       "      <th></th>\n",
       "      <th>Acquistion_Mode</th>\n",
       "      <th>Age</th>\n",
       "      <th>Income</th>\n",
       "      <th>Subscribe</th>\n",
       "    </tr>\n",
       "  </thead>\n",
       "  <tbody>\n",
       "    <tr>\n",
       "      <th>0</th>\n",
       "      <td>Direct</td>\n",
       "      <td>54.0</td>\n",
       "      <td>25000.0</td>\n",
       "      <td>No</td>\n",
       "    </tr>\n",
       "    <tr>\n",
       "      <th>1</th>\n",
       "      <td>Email</td>\n",
       "      <td>38.0</td>\n",
       "      <td>47995.0</td>\n",
       "      <td>Yes</td>\n",
       "    </tr>\n",
       "    <tr>\n",
       "      <th>2</th>\n",
       "      <td>Tele</td>\n",
       "      <td>37.0</td>\n",
       "      <td>54014.0</td>\n",
       "      <td>Yes</td>\n",
       "    </tr>\n",
       "    <tr>\n",
       "      <th>3</th>\n",
       "      <td>Email</td>\n",
       "      <td>52.0</td>\n",
       "      <td>61014.0</td>\n",
       "      <td>No</td>\n",
       "    </tr>\n",
       "    <tr>\n",
       "      <th>4</th>\n",
       "      <td>Tele</td>\n",
       "      <td>35.0</td>\n",
       "      <td>NaN</td>\n",
       "      <td>Yes</td>\n",
       "    </tr>\n",
       "  </tbody>\n",
       "</table>\n",
       "</div>"
      ],
      "text/plain": [
       "  Acquistion_Mode   Age   Income Subscribe\n",
       "0          Direct  54.0  25000.0        No\n",
       "1           Email  38.0  47995.0       Yes\n",
       "2            Tele  37.0  54014.0       Yes\n",
       "3           Email  52.0  61014.0        No\n",
       "4            Tele  35.0      NaN       Yes"
      ]
     },
     "execution_count": 12,
     "metadata": {},
     "output_type": "execute_result"
    }
   ],
   "source": [
    "import pandas as pd\n",
    "import numpy as np\n",
    "\n",
    "#load dataset\n",
    "df=pd.read_csv(\"data.csv\")\n",
    "df.head(20)\n",
    "x=df.iloc[:,:-1].values #iloc is used to split the data\n",
    "y=df.iloc[:,3].values\n",
    "\n",
    "#handling the missing values using scikit learn\n",
    "from sklearn.preprocessing import Imputer\n",
    "imputer=Imputer(missing_values='NaN',strategy='mean',axis=0)\n",
    "imputer=imputer.fit(x[:,1:3])\n",
    "x[:,1:3]=imputer.transform(x[:,1:3])\n",
    "x\n",
    "\n",
    "#handling categorical features\n",
    "#categorical variables\n",
    "\n",
    "df.head()"
   ]
  },
  {
   "cell_type": "code",
   "execution_count": 20,
   "metadata": {},
   "outputs": [
    {
     "data": {
      "text/plain": [
       "array([0, 1, 1, 0, 1, 1, 0, 1, 0, 1, 1, 1, 0, 1], dtype=int64)"
      ]
     },
     "execution_count": 20,
     "metadata": {},
     "output_type": "execute_result"
    }
   ],
   "source": [
    "#Encoded categorical values\n",
    "\n",
    "from sklearn.preprocessing import LabelEncoder, OneHotEncoder\n",
    "labelencoder_x=LabelEncoder()\n",
    "x[:,0]=labelencoder_x.fit_transform(x[:,0])\n",
    "onehotencoder_x= OneHotEncoder(categorical_features=[0])\n",
    "x=onehotencoder_x.fit_transform(x).toarray()\n",
    "x\n",
    "\n",
    "labelencoder_y=LabelEncoder()\n",
    "y=labelencoder_y.fit_transform(y)\n",
    "y"
   ]
  },
  {
   "cell_type": "code",
   "execution_count": 22,
   "metadata": {},
   "outputs": [],
   "source": [
    "#splitting data into training and test\n",
    "\n",
    "from sklearn.model_selection import train_test_split\n",
    "x_train,x_test,y_train,y_test=train_test_split(x,y,test_size=0.2,random_state=0)\n"
   ]
  },
  {
   "cell_type": "code",
   "execution_count": 23,
   "metadata": {},
   "outputs": [
    {
     "data": {
      "text/html": [
       "<div>\n",
       "<style scoped>\n",
       "    .dataframe tbody tr th:only-of-type {\n",
       "        vertical-align: middle;\n",
       "    }\n",
       "\n",
       "    .dataframe tbody tr th {\n",
       "        vertical-align: top;\n",
       "    }\n",
       "\n",
       "    .dataframe thead th {\n",
       "        text-align: right;\n",
       "    }\n",
       "</style>\n",
       "<table border=\"1\" class=\"dataframe\">\n",
       "  <thead>\n",
       "    <tr style=\"text-align: right;\">\n",
       "      <th></th>\n",
       "      <th>Acquistion_Mode</th>\n",
       "      <th>Age</th>\n",
       "      <th>Income</th>\n",
       "      <th>Subscribe</th>\n",
       "    </tr>\n",
       "  </thead>\n",
       "  <tbody>\n",
       "    <tr>\n",
       "      <th>0</th>\n",
       "      <td>Direct</td>\n",
       "      <td>54.0</td>\n",
       "      <td>25000.0</td>\n",
       "      <td>No</td>\n",
       "    </tr>\n",
       "    <tr>\n",
       "      <th>1</th>\n",
       "      <td>Email</td>\n",
       "      <td>38.0</td>\n",
       "      <td>47995.0</td>\n",
       "      <td>Yes</td>\n",
       "    </tr>\n",
       "    <tr>\n",
       "      <th>2</th>\n",
       "      <td>Tele</td>\n",
       "      <td>37.0</td>\n",
       "      <td>54014.0</td>\n",
       "      <td>Yes</td>\n",
       "    </tr>\n",
       "    <tr>\n",
       "      <th>3</th>\n",
       "      <td>Email</td>\n",
       "      <td>52.0</td>\n",
       "      <td>61014.0</td>\n",
       "      <td>No</td>\n",
       "    </tr>\n",
       "    <tr>\n",
       "      <th>4</th>\n",
       "      <td>Tele</td>\n",
       "      <td>35.0</td>\n",
       "      <td>NaN</td>\n",
       "      <td>Yes</td>\n",
       "    </tr>\n",
       "  </tbody>\n",
       "</table>\n",
       "</div>"
      ],
      "text/plain": [
       "  Acquistion_Mode   Age   Income Subscribe\n",
       "0          Direct  54.0  25000.0        No\n",
       "1           Email  38.0  47995.0       Yes\n",
       "2            Tele  37.0  54014.0       Yes\n",
       "3           Email  52.0  61014.0        No\n",
       "4            Tele  35.0      NaN       Yes"
      ]
     },
     "execution_count": 23,
     "metadata": {},
     "output_type": "execute_result"
    }
   ],
   "source": [
    "df.head()"
   ]
  },
  {
   "cell_type": "code",
   "execution_count": 28,
   "metadata": {},
   "outputs": [
    {
     "data": {
      "text/plain": [
       "array([[ 0.91287093, -0.91287093,  0.91287093, -0.91287093,  0.91287093,\n",
       "        -0.61237244, -0.47140452, -0.25768236, -0.01789735],\n",
       "       [-1.09544512,  1.09544512, -1.09544512,  1.09544512, -1.09544512,\n",
       "        -0.61237244,  2.12132034, -1.57719374, -0.29838984],\n",
       "       [ 0.91287093, -0.91287093,  0.91287093, -0.91287093,  0.91287093,\n",
       "        -0.61237244, -0.47140452,  2.23472803,  1.46228007],\n",
       "       [ 0.91287093, -0.91287093,  0.91287093, -0.91287093,  0.91287093,\n",
       "        -0.61237244, -0.47140452,  0.03554239,  0.61706833],\n",
       "       [-1.09544512,  1.09544512, -1.09544512,  1.09544512, -1.09544512,\n",
       "         1.63299316, -0.47140452, -1.43058136, -0.72247533],\n",
       "       [ 0.91287093, -0.91287093,  0.91287093, -0.91287093,  0.91287093,\n",
       "        -0.61237244, -0.47140452, -0.40429473,  1.46298465],\n",
       "       [-1.09544512,  1.09544512, -1.09544512,  1.09544512, -1.09544512,\n",
       "        -0.61237244,  2.12132034,  0.03554239,  0.10034258],\n",
       "       [-1.09544512,  1.09544512, -1.09544512,  1.09544512, -1.09544512,\n",
       "         1.63299316, -0.47140452,  0.6219919 ,  0.19481474],\n",
       "       [ 0.91287093, -0.91287093,  0.91287093, -0.91287093,  0.91287093,\n",
       "        -0.61237244, -0.47140452,  0.91521665, -2.34265239],\n",
       "       [ 0.91287093, -0.91287093,  0.91287093, -0.91287093,  0.91287093,\n",
       "        -0.61237244, -0.47140452, -0.08663459, -0.01677002],\n",
       "       [-1.09544512,  1.09544512, -1.09544512,  1.09544512, -1.09544512,\n",
       "         1.63299316, -0.47140452, -0.08663459, -0.43930544]])"
      ]
     },
     "execution_count": 28,
     "metadata": {},
     "output_type": "execute_result"
    }
   ],
   "source": [
    "#feature scalling\n",
    "\n",
    "from sklearn.preprocessing import StandardScaler\n",
    "SS_x=StandardScaler()\n",
    "x_train=SS_x.fit_transform(x_train)\n",
    "x_test=SS_x.fit_transform(x_test)\n",
    "x_train\n",
    "\n",
    "#what we learn yet from this?\n",
    "\n",
    "#independent and dependent variable\n",
    "#handling missing values\n",
    "#encode categorical variables\n",
    "#split data into training and test\n",
    "#feature scaler\n"
   ]
  },
  {
   "cell_type": "code",
   "execution_count": null,
   "metadata": {},
   "outputs": [],
   "source": []
  }
 ],
 "metadata": {
  "kernelspec": {
   "display_name": "Python 3",
   "language": "python",
   "name": "python3"
  },
  "language_info": {
   "codemirror_mode": {
    "name": "ipython",
    "version": 3
   },
   "file_extension": ".py",
   "mimetype": "text/x-python",
   "name": "python",
   "nbconvert_exporter": "python",
   "pygments_lexer": "ipython3",
   "version": "3.7.0"
  }
 },
 "nbformat": 4,
 "nbformat_minor": 2
}
